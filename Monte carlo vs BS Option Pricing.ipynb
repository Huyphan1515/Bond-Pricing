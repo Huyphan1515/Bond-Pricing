{
 "cells": [
  {
   "cell_type": "code",
   "execution_count": 1,
   "id": "4f95c83b-b534-40b9-8d4c-b2731f0c5a17",
   "metadata": {},
   "outputs": [
    {
     "name": "stdout",
     "output_type": "stream",
     "text": [
      "Black-Scholes Call Option Price: $52.96\n",
      "Monte Carlo Simulation Call Option Price: $52.78\n"
     ]
    }
   ],
   "source": [
    "import numpy as np\n",
    "import scipy.stats as stats\n",
    "import math\n",
    "\n",
    "# Parameters\n",
    "S0 = 355.84  # Current stock price of Tesla\n",
    "K = 500  # Strike price\n",
    "T = 1  # Time to maturity in years\n",
    "r = 0.03  # Risk-free interest rate (3%)\n",
    "sigma = 0.6432  # Implied volatility of Tesla stock (51.27%)\n",
    "N = 100000  # Number of Monte Carlo simulations\n",
    "\n",
    "# Black-Scholes Model for Call Option Pricing\n",
    "def black_scholes_call(S0, K, T, r, sigma):\n",
    "    d1 = (math.log(S0 / K) + (r + 0.5 * sigma**2) * T) / (sigma * math.sqrt(T))\n",
    "    d2 = d1 - sigma * math.sqrt(T)\n",
    "    call_price = S0 * stats.norm.cdf(d1) - K * math.exp(-r * T) * stats.norm.cdf(d2)\n",
    "    return call_price\n",
    "\n",
    "# Monte Carlo Simulation for Stock Price\n",
    "def monte_carlo_call(S0, K, T, r, sigma, N):\n",
    "    # Simulate random stock prices at maturity using Geometric Brownian Motion\n",
    "    Z = np.random.normal(0, 1, N)  # Random variables from normal distribution\n",
    "    ST = S0 * np.exp((r - 0.5 * sigma**2) * T + sigma * np.sqrt(T) * Z)  # Stock prices at maturity\n",
    "    payoff = np.maximum(ST - K, 0)  # Payoff for call option at maturity\n",
    "    call_price_MC = np.exp(-r * T) * np.mean(payoff)  # Discounted mean payoff\n",
    "    return call_price_MC\n",
    "\n",
    "# Calculate the option prices using both methods\n",
    "bs_price = black_scholes_call(S0, K, T, r, sigma)\n",
    "mc_price = monte_carlo_call(S0, K, T, r, sigma, N)\n",
    "\n",
    "# Output the results\n",
    "print(f\"Black-Scholes Call Option Price: ${bs_price:.2f}\")\n",
    "print(f\"Monte Carlo Simulation Call Option Price: ${mc_price:.2f}\")\n",
    "\n"
   ]
  },
  {
   "cell_type": "code",
   "execution_count": 2,
   "id": "90adf24e-2e2d-4f6e-a13c-09ed233cda9a",
   "metadata": {},
   "outputs": [
    {
     "name": "stdout",
     "output_type": "stream",
     "text": [
      "Black-Scholes Call Option Price: $1.76\n",
      "Monte Carlo Simulation Call Option Price: $1.78\n"
     ]
    }
   ],
   "source": [
    "import numpy as np\n",
    "import scipy.stats as stats\n",
    "import math\n",
    "\n",
    "# Parameters\n",
    "S0 = 408.43  # Current stock price of Microsoft\n",
    "K = 600  # Strike price\n",
    "T = 1  # Time to maturity in years\n",
    "r = 0.03  # Risk-free interest rate (3%)\n",
    "sigma = 0.2065  # Implied volatility of Microsoft stock (20.65%)\n",
    "N = 100000  # Number of Monte Carlo simulations\n",
    "\n",
    "# Black-Scholes Model for Call Option Pricing\n",
    "def black_scholes_call(S0, K, T, r, sigma):\n",
    "    d1 = (math.log(S0 / K) + (r + 0.5 * sigma**2) * T) / (sigma * math.sqrt(T))\n",
    "    d2 = d1 - sigma * math.sqrt(T)\n",
    "    call_price = S0 * stats.norm.cdf(d1) - K * math.exp(-r * T) * stats.norm.cdf(d2)\n",
    "    return call_price\n",
    "\n",
    "# Monte Carlo Simulation for Stock Price\n",
    "def monte_carlo_call(S0, K, T, r, sigma, N):\n",
    "    # Simulate random stock prices at maturity using Geometric Brownian Motion\n",
    "    Z = np.random.normal(0, 1, N)  # Random variables from normal distribution\n",
    "    ST = S0 * np.exp((r - 0.5 * sigma**2) * T + sigma * np.sqrt(T) * Z)  # Stock prices at maturity\n",
    "    payoff = np.maximum(ST - K, 0)  # Payoff for call option at maturity\n",
    "    call_price_MC = np.exp(-r * T) * np.mean(payoff)  # Discounted mean payoff\n",
    "    return call_price_MC\n",
    "\n",
    "# Calculate the option prices using both methods\n",
    "bs_price = black_scholes_call(S0, K, T, r, sigma)\n",
    "mc_price = monte_carlo_call(S0, K, T, r, sigma, N)\n",
    "\n",
    "# Output the results\n",
    "print(f\"Black-Scholes Call Option Price: ${bs_price:.2f}\")\n",
    "print(f\"Monte Carlo Simulation Call Option Price: ${mc_price:.2f}\")\n"
   ]
  },
  {
   "cell_type": "code",
   "execution_count": 3,
   "id": "14c7f084-2099-4ed3-b29d-9d65faf48bbb",
   "metadata": {},
   "outputs": [
    {
     "name": "stdout",
     "output_type": "stream",
     "text": [
      "Black-Scholes Call Option Price: 6961.37 VND\n",
      "Monte Carlo Simulation Call Option Price: 6883.92 VND\n",
      "Implied Volatility (σ): 0.2000\n"
     ]
    }
   ],
   "source": [
    "import numpy as np\n",
    "import scipy.stats as stats\n",
    "import math\n",
    "\n",
    "# Parameters\n",
    "S0 = 143600  # Current stock price of FPT in VND\n",
    "K = 160000  # Strike price in VND\n",
    "T = 1  # Time to maturity in years\n",
    "r = 0.03  # Risk-free interest rate (3%)\n",
    "sigma = 0.20  # Implied volatility of FPT stock (20%)\n",
    "N = 100000  # Number of Monte Carlo simulations\n",
    "\n",
    "# Black-Scholes Model for Call Option Pricing\n",
    "def black_scholes_call(S0, K, T, r, sigma):\n",
    "    d1 = (math.log(S0 / K) + (r + 0.5 * sigma**2) * T) / (sigma * math.sqrt(T))\n",
    "    d2 = d1 - sigma * math.sqrt(T)\n",
    "    call_price = S0 * stats.norm.cdf(d1) - K * math.exp(-r * T) * stats.norm.cdf(d2)\n",
    "    return call_price\n",
    "\n",
    "# Monte Carlo Simulation for Stock Price\n",
    "def monte_carlo_call(S0, K, T, r, sigma, N):\n",
    "    # Simulate random stock prices at maturity using Geometric Brownian Motion\n",
    "    Z = np.random.normal(0, 1, N)  # Random variables from normal distribution\n",
    "    ST = S0 * np.exp((r - 0.5 * sigma**2) * T + sigma * np.sqrt(T) * Z)  # Stock prices at maturity\n",
    "    payoff = np.maximum(ST - K, 0)  # Payoff for call option at maturity\n",
    "    call_price_MC = np.exp(-r * T) * np.mean(payoff)  # Discounted mean payoff\n",
    "    return call_price_MC\n",
    "\n",
    "# Calculate the option prices using both methods\n",
    "bs_price = black_scholes_call(S0, K, T, r, sigma)\n",
    "mc_price = monte_carlo_call(S0, K, T, r, sigma, N)\n",
    "\n",
    "# Output the results\n",
    "print(f\"Black-Scholes Call Option Price: {bs_price:.2f} VND\")\n",
    "print(f\"Monte Carlo Simulation Call Option Price: {mc_price:.2f} VND\")\n",
    "print(f\"Implied Volatility (σ): {sigma:.4f}\")\n"
   ]
  },
  {
   "cell_type": "code",
   "execution_count": 4,
   "id": "452c0d40-1893-4afa-9c50-948d7e3016f5",
   "metadata": {},
   "outputs": [
    {
     "name": "stdout",
     "output_type": "stream",
     "text": [
      "Black-Scholes Call Option Price: $15.98\n",
      "Monte Carlo Simulation Call Option Price: $15.96\n",
      "Maximum Payoff: 1065.04\n",
      "Minimum Payoff: 0.00\n"
     ]
    }
   ],
   "source": [
    "import numpy as np\n",
    "import scipy.stats as stats\n",
    "import math\n",
    "\n",
    "# Parameters\n",
    "S0 = 138.85  # Current stock price of NVIDIA in USD\n",
    "K = 200  # Strike price in USD\n",
    "T = 1  # Time to maturity in years\n",
    "r = 0.03  # Risk-free interest rate (3%)\n",
    "sigma = 0.5742  # Implied volatility of NVIDIA stock (57.42%)\n",
    "N = 100000  # Number of Monte Carlo simulations\n",
    "\n",
    "# Black-Scholes Model for Call Option Pricing\n",
    "def black_scholes_call(S0, K, T, r, sigma):\n",
    "    d1 = (math.log(S0 / K) + (r + 0.5 * sigma**2) * T) / (sigma * math.sqrt(T))\n",
    "    d2 = d1 - sigma * math.sqrt(T)\n",
    "    call_price = S0 * stats.norm.cdf(d1) - K * math.exp(-r * T) * stats.norm.cdf(d2)\n",
    "    return call_price\n",
    "\n",
    "# Monte Carlo Simulation for Stock Price\n",
    "def monte_carlo_call(S0, K, T, r, sigma, N):\n",
    "    # Simulate random stock prices at maturity using Geometric Brownian Motion\n",
    "    Z = np.random.normal(0, 1, N)  # Random variables from normal distribution\n",
    "    ST = S0 * np.exp((r - 0.5 * sigma**2) * T + sigma * np.sqrt(T) * Z)  # Stock prices at maturity\n",
    "    payoff = np.maximum(ST - K, 0)  # Payoff for call option at maturity\n",
    "    return ST, payoff  # Return both stock prices at maturity and payoffs\n",
    "\n",
    "# Calculate the option prices using both methods\n",
    "bs_price = black_scholes_call(S0, K, T, r, sigma)\n",
    "ST, payoff = monte_carlo_call(S0, K, T, r, sigma, N)\n",
    "\n",
    "# Calculate the maximum and minimum payoff\n",
    "max_payoff = np.max(payoff)\n",
    "min_payoff = np.min(payoff)\n",
    "\n",
    "# Output the results\n",
    "print(f\"Black-Scholes Call Option Price: ${bs_price:.2f}\")\n",
    "print(f\"Monte Carlo Simulation Call Option Price: ${np.exp(-r * T) * np.mean(payoff):.2f}\")\n",
    "print(f\"Maximum Payoff: {max_payoff:.2f}\")\n",
    "print(f\"Minimum Payoff: {min_payoff:.2f}\")\n"
   ]
  },
  {
   "cell_type": "code",
   "execution_count": 5,
   "id": "3ee8f85c-d3ca-4b24-8073-daab3e91d65e",
   "metadata": {},
   "outputs": [
    {
     "name": "stdout",
     "output_type": "stream",
     "text": [
      "Implied Volatility (σ): 0.5742\n"
     ]
    }
   ],
   "source": [
    "print(f\"Implied Volatility (σ): {sigma:.4f}\")"
   ]
  },
  {
   "cell_type": "code",
   "execution_count": 6,
   "id": "b5c551dc-a8d9-4e88-9c28-ebb7dd12e97f",
   "metadata": {},
   "outputs": [
    {
     "name": "stdout",
     "output_type": "stream",
     "text": [
      "Black-Scholes Call Option Price: 52.9552\n",
      "Monte Carlo Simulation Call Option Price: 53.2931\n",
      "Monte Carlo with Black-Scholes Delta Call Option Price: 47.1618\n"
     ]
    }
   ],
   "source": [
    "import numpy as np\n",
    "import scipy.stats as stats\n",
    "import math\n",
    "\n",
    "# Parameters\n",
    "S0 = 355.84  # Current stock price\n",
    "K = 500      # Strike price\n",
    "T = 1        # Time to maturity (years)\n",
    "r = 0.03     # Risk-free rate (3%)\n",
    "sigma = 0.6432  # Implied volatility\n",
    "N = 100000   # Number of Monte Carlo simulations\n",
    "\n",
    "# Black-Scholes Model for Call Option Pricing\n",
    "def black_scholes_call(S0, K, T, r, sigma):\n",
    "    d1 = (math.log(S0 / K) + (r + 0.5 * sigma**2) * T) / (sigma * math.sqrt(T))\n",
    "    d2 = d1 - sigma * math.sqrt(T)\n",
    "    call_price = S0 * stats.norm.cdf(d1) - K * math.exp(-r * T) * stats.norm.cdf(d2)\n",
    "    return call_price\n",
    "\n",
    "# Monte Carlo Simulation for Stock Price\n",
    "def monte_carlo_call(S0, K, T, r, sigma, N):\n",
    "    Z = np.random.standard_normal(N)  # Random normal variables\n",
    "    ST = S0 * np.exp((r - 0.5 * sigma**2) * T + sigma * np.sqrt(T) * Z)  # Simulated stock price at T\n",
    "    payoff = np.maximum(ST - K, 0)  # Call option payoff\n",
    "    call_price_MC = np.exp(-r * T) * np.mean(payoff)  # Discounted mean payoff\n",
    "    return call_price_MC\n",
    "\n",
    "# Monte Carlo Simulation for Black-Scholes Delta\n",
    "def monte_carlo_black_scholes_delta(S0, K, T, r, sigma, N):\n",
    "    Z = np.random.standard_normal(N)  # Random normal variables\n",
    "    ST = S0 * np.exp((r - 0.5 * sigma**2) * T + sigma * np.sqrt(T) * Z)  # Simulated stock prices\n",
    "\n",
    "    # Compute Delta for each simulated price path\n",
    "    d1 = (np.log(ST / K) + (r + 0.5 * sigma**2) * T) / (sigma * np.sqrt(T))\n",
    "    delta_MC = stats.norm.cdf(d1)  # Black-Scholes Delta applied to simulated ST\n",
    "\n",
    "    # Compute option price using Monte Carlo Delta\n",
    "    payoff = np.maximum(ST - K, 0)  # Call option payoff\n",
    "    call_price_MC_delta = np.exp(-r * T) * np.mean(delta_MC * payoff)  # Discounted mean payoff weighted by Delta\n",
    "    return call_price_MC_delta\n",
    "\n",
    "# Calculate all three prices\n",
    "bs_price = black_scholes_call(S0, K, T, r, sigma)\n",
    "mc_price = monte_carlo_call(S0, K, T, r, sigma, N)\n",
    "mc_delta_price = monte_carlo_black_scholes_delta(S0, K, T, r, sigma, N)\n",
    "\n",
    "# Output the results\n",
    "print(f\"Black-Scholes Call Option Price: {bs_price:.4f}\")\n",
    "print(f\"Monte Carlo Simulation Call Option Price: {mc_price:.4f}\")\n",
    "print(f\"Monte Carlo with Black-Scholes Delta Call Option Price: {mc_delta_price:.4f}\")\n"
   ]
  }
 ],
 "metadata": {
  "kernelspec": {
   "display_name": "Python 3 (ipykernel)",
   "language": "python",
   "name": "python3"
  },
  "language_info": {
   "codemirror_mode": {
    "name": "ipython",
    "version": 3
   },
   "file_extension": ".py",
   "mimetype": "text/x-python",
   "name": "python",
   "nbconvert_exporter": "python",
   "pygments_lexer": "ipython3",
   "version": "3.12.7"
  }
 },
 "nbformat": 4,
 "nbformat_minor": 5
}
